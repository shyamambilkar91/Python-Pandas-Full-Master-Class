{
 "cells": [
  {
   "cell_type": "code",
   "execution_count": 1,
   "metadata": {},
   "outputs": [
    {
     "name": "stdout",
     "output_type": "stream",
     "text": [
      "Collecting mysqlNote: you may need to restart the kernel to use updated packages.\n",
      "\n",
      "  Downloading mysql-0.0.2.tar.gz (1.9 kB)\n",
      "Collecting mysqlclient\n",
      "  Downloading mysqlclient-2.0.3-cp36-cp36m-win_amd64.whl (178 kB)\n",
      "Building wheels for collected packages: mysql\n",
      "  Building wheel for mysql (setup.py): started\n",
      "  Building wheel for mysql (setup.py): finished with status 'done'\n",
      "  Created wheel for mysql: filename=mysql-0.0.2-py3-none-any.whl size=1246 sha256=6497b7c4bfd8052153d07480fc9a1eff6e2781a993ddec9f69ad12d510366ca6\n",
      "  Stored in directory: c:\\users\\sys\\appdata\\local\\pip\\cache\\wheels\\2c\\dd\\61\\3bd68e4b604042bfd0aa0c74d9961841c04db834181bf4fe1a\n",
      "Successfully built mysql\n",
      "Installing collected packages: mysqlclient, mysql\n",
      "Successfully installed mysql-0.0.2 mysqlclient-2.0.3\n"
     ]
    },
    {
     "name": "stderr",
     "output_type": "stream",
     "text": [
      "WARNING: You are using pip version 20.3.3; however, version 21.0.1 is available.\n",
      "You should consider upgrading via the 'c:\\users\\sys\\appdata\\local\\programs\\python\\python36\\python.exe -m pip install --upgrade pip' command.\n"
     ]
    }
   ],
   "source": [
    "pip install mysql"
   ]
  },
  {
   "cell_type": "code",
   "execution_count": 9,
   "metadata": {},
   "outputs": [],
   "source": [
    "# importing required libraries\n",
    "import mysql.connector as sql\n",
    "import pandas as pd"
   ]
  },
  {
   "cell_type": "code",
   "execution_count": 2,
   "metadata": {},
   "outputs": [],
   "source": [
    "# creating connection\n",
    "db = sql.connect(host = 'localhost', user = 'root',passwd = 'dbmsadmin',database = 'company',\n",
    "                 auth_plugin='mysql_native_password')"
   ]
  },
  {
   "cell_type": "code",
   "execution_count": 10,
   "metadata": {},
   "outputs": [],
   "source": [
    "# create data as pandas dataframe\n",
    "query = \"select * from customers\"\n",
    "data = pd.read_sql(query, db)"
   ]
  },
  {
   "cell_type": "code",
   "execution_count": 11,
   "metadata": {},
   "outputs": [
    {
     "data": {
      "text/html": [
       "<div>\n",
       "<style scoped>\n",
       "    .dataframe tbody tr th:only-of-type {\n",
       "        vertical-align: middle;\n",
       "    }\n",
       "\n",
       "    .dataframe tbody tr th {\n",
       "        vertical-align: top;\n",
       "    }\n",
       "\n",
       "    .dataframe thead th {\n",
       "        text-align: right;\n",
       "    }\n",
       "</style>\n",
       "<table border=\"1\" class=\"dataframe\">\n",
       "  <thead>\n",
       "    <tr style=\"text-align: right;\">\n",
       "      <th></th>\n",
       "      <th>CustID</th>\n",
       "      <th>custName</th>\n",
       "      <th>city</th>\n",
       "      <th>postalCode</th>\n",
       "      <th>country</th>\n",
       "    </tr>\n",
       "  </thead>\n",
       "  <tbody>\n",
       "    <tr>\n",
       "      <th>0</th>\n",
       "      <td>1</td>\n",
       "      <td>Rahul</td>\n",
       "      <td>kanpur</td>\n",
       "      <td>2345</td>\n",
       "      <td>India</td>\n",
       "    </tr>\n",
       "    <tr>\n",
       "      <th>1</th>\n",
       "      <td>2</td>\n",
       "      <td>Alfreds</td>\n",
       "      <td>berlin</td>\n",
       "      <td>1229</td>\n",
       "      <td>Germany</td>\n",
       "    </tr>\n",
       "    <tr>\n",
       "      <th>2</th>\n",
       "      <td>3</td>\n",
       "      <td>Antonio</td>\n",
       "      <td>London</td>\n",
       "      <td>7643</td>\n",
       "      <td>UK</td>\n",
       "    </tr>\n",
       "  </tbody>\n",
       "</table>\n",
       "</div>"
      ],
      "text/plain": [
       "  CustID custName    city  postalCode  country\n",
       "0      1    Rahul  kanpur        2345    India\n",
       "1      2  Alfreds  berlin        1229  Germany\n",
       "2      3  Antonio  London        7643       UK"
      ]
     },
     "execution_count": 11,
     "metadata": {},
     "output_type": "execute_result"
    }
   ],
   "source": [
    "# print the data\n",
    "data.head()"
   ]
  },
  {
   "cell_type": "code",
   "execution_count": null,
   "metadata": {},
   "outputs": [],
   "source": []
  }
 ],
 "metadata": {
  "kernelspec": {
   "display_name": "Python 3",
   "language": "python",
   "name": "python3"
  },
  "language_info": {
   "codemirror_mode": {
    "name": "ipython",
    "version": 3
   },
   "file_extension": ".py",
   "mimetype": "text/x-python",
   "name": "python",
   "nbconvert_exporter": "python",
   "pygments_lexer": "ipython3",
   "version": "3.6.8"
  }
 },
 "nbformat": 4,
 "nbformat_minor": 4
}
