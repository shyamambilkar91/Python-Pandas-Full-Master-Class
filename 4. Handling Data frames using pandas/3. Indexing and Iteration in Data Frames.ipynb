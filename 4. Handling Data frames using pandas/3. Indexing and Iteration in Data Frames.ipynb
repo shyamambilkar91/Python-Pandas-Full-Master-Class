{
 "cells": [
  {
   "cell_type": "code",
   "execution_count": 1,
   "metadata": {},
   "outputs": [],
   "source": [
    "import pandas as pd\n",
    "import numpy as np"
   ]
  },
  {
   "cell_type": "code",
   "execution_count": 2,
   "metadata": {},
   "outputs": [
    {
     "data": {
      "text/html": [
       "<div>\n",
       "<style scoped>\n",
       "    .dataframe tbody tr th:only-of-type {\n",
       "        vertical-align: middle;\n",
       "    }\n",
       "\n",
       "    .dataframe tbody tr th {\n",
       "        vertical-align: top;\n",
       "    }\n",
       "\n",
       "    .dataframe thead th {\n",
       "        text-align: right;\n",
       "    }\n",
       "</style>\n",
       "<table border=\"1\" class=\"dataframe\">\n",
       "  <thead>\n",
       "    <tr style=\"text-align: right;\">\n",
       "      <th></th>\n",
       "      <th>A</th>\n",
       "      <th>B</th>\n",
       "      <th>C</th>\n",
       "      <th>D</th>\n",
       "    </tr>\n",
       "  </thead>\n",
       "  <tbody>\n",
       "    <tr>\n",
       "      <th>2000-01-01</th>\n",
       "      <td>-0.544858</td>\n",
       "      <td>1.501030</td>\n",
       "      <td>0.398307</td>\n",
       "      <td>2.898312</td>\n",
       "    </tr>\n",
       "    <tr>\n",
       "      <th>2000-01-02</th>\n",
       "      <td>-1.865583</td>\n",
       "      <td>-0.259714</td>\n",
       "      <td>0.773989</td>\n",
       "      <td>0.431193</td>\n",
       "    </tr>\n",
       "    <tr>\n",
       "      <th>2000-01-03</th>\n",
       "      <td>1.487278</td>\n",
       "      <td>0.146009</td>\n",
       "      <td>0.432166</td>\n",
       "      <td>0.378402</td>\n",
       "    </tr>\n",
       "    <tr>\n",
       "      <th>2000-01-04</th>\n",
       "      <td>-1.041421</td>\n",
       "      <td>0.242035</td>\n",
       "      <td>0.946409</td>\n",
       "      <td>-1.346505</td>\n",
       "    </tr>\n",
       "    <tr>\n",
       "      <th>2000-01-05</th>\n",
       "      <td>-1.091189</td>\n",
       "      <td>0.219331</td>\n",
       "      <td>0.687794</td>\n",
       "      <td>-2.020007</td>\n",
       "    </tr>\n",
       "    <tr>\n",
       "      <th>2000-01-06</th>\n",
       "      <td>-0.983689</td>\n",
       "      <td>0.068095</td>\n",
       "      <td>-0.686029</td>\n",
       "      <td>-2.571632</td>\n",
       "    </tr>\n",
       "    <tr>\n",
       "      <th>2000-01-07</th>\n",
       "      <td>-0.049957</td>\n",
       "      <td>-0.999446</td>\n",
       "      <td>0.815232</td>\n",
       "      <td>0.079493</td>\n",
       "    </tr>\n",
       "    <tr>\n",
       "      <th>2000-01-08</th>\n",
       "      <td>1.215236</td>\n",
       "      <td>-0.167332</td>\n",
       "      <td>0.724816</td>\n",
       "      <td>0.659588</td>\n",
       "    </tr>\n",
       "  </tbody>\n",
       "</table>\n",
       "</div>"
      ],
      "text/plain": [
       "                   A         B         C         D\n",
       "2000-01-01 -0.544858  1.501030  0.398307  2.898312\n",
       "2000-01-02 -1.865583 -0.259714  0.773989  0.431193\n",
       "2000-01-03  1.487278  0.146009  0.432166  0.378402\n",
       "2000-01-04 -1.041421  0.242035  0.946409 -1.346505\n",
       "2000-01-05 -1.091189  0.219331  0.687794 -2.020007\n",
       "2000-01-06 -0.983689  0.068095 -0.686029 -2.571632\n",
       "2000-01-07 -0.049957 -0.999446  0.815232  0.079493\n",
       "2000-01-08  1.215236 -0.167332  0.724816  0.659588"
      ]
     },
     "execution_count": 2,
     "metadata": {},
     "output_type": "execute_result"
    }
   ],
   "source": [
    "# creating data frame\n",
    "dates = pd.date_range('1/1/2000', periods=8)\n",
    "df = pd.DataFrame(np.random.randn(8, 4), index=dates, columns=['A', 'B', 'C', 'D'])\n",
    "df"
   ]
  },
  {
   "cell_type": "code",
   "execution_count": 3,
   "metadata": {},
   "outputs": [
    {
     "data": {
      "text/plain": [
       "2000-01-01   -0.544858\n",
       "2000-01-02   -1.865583\n",
       "2000-01-03    1.487278\n",
       "2000-01-04   -1.041421\n",
       "2000-01-05   -1.091189\n",
       "2000-01-06   -0.983689\n",
       "2000-01-07   -0.049957\n",
       "2000-01-08    1.215236\n",
       "Freq: D, Name: A, dtype: float64"
      ]
     },
     "execution_count": 3,
     "metadata": {},
     "output_type": "execute_result"
    }
   ],
   "source": [
    "# indexing using loc[]\n",
    "df.loc[:,'A']"
   ]
  },
  {
   "cell_type": "code",
   "execution_count": 4,
   "metadata": {},
   "outputs": [
    {
     "data": {
      "text/html": [
       "<div>\n",
       "<style scoped>\n",
       "    .dataframe tbody tr th:only-of-type {\n",
       "        vertical-align: middle;\n",
       "    }\n",
       "\n",
       "    .dataframe tbody tr th {\n",
       "        vertical-align: top;\n",
       "    }\n",
       "\n",
       "    .dataframe thead th {\n",
       "        text-align: right;\n",
       "    }\n",
       "</style>\n",
       "<table border=\"1\" class=\"dataframe\">\n",
       "  <thead>\n",
       "    <tr style=\"text-align: right;\">\n",
       "      <th></th>\n",
       "      <th>A</th>\n",
       "      <th>B</th>\n",
       "      <th>C</th>\n",
       "    </tr>\n",
       "  </thead>\n",
       "  <tbody>\n",
       "    <tr>\n",
       "      <th>2000-01-01</th>\n",
       "      <td>-0.544858</td>\n",
       "      <td>1.501030</td>\n",
       "      <td>0.398307</td>\n",
       "    </tr>\n",
       "    <tr>\n",
       "      <th>2000-01-02</th>\n",
       "      <td>-1.865583</td>\n",
       "      <td>-0.259714</td>\n",
       "      <td>0.773989</td>\n",
       "    </tr>\n",
       "    <tr>\n",
       "      <th>2000-01-03</th>\n",
       "      <td>1.487278</td>\n",
       "      <td>0.146009</td>\n",
       "      <td>0.432166</td>\n",
       "    </tr>\n",
       "    <tr>\n",
       "      <th>2000-01-04</th>\n",
       "      <td>-1.041421</td>\n",
       "      <td>0.242035</td>\n",
       "      <td>0.946409</td>\n",
       "    </tr>\n",
       "    <tr>\n",
       "      <th>2000-01-05</th>\n",
       "      <td>-1.091189</td>\n",
       "      <td>0.219331</td>\n",
       "      <td>0.687794</td>\n",
       "    </tr>\n",
       "    <tr>\n",
       "      <th>2000-01-06</th>\n",
       "      <td>-0.983689</td>\n",
       "      <td>0.068095</td>\n",
       "      <td>-0.686029</td>\n",
       "    </tr>\n",
       "    <tr>\n",
       "      <th>2000-01-07</th>\n",
       "      <td>-0.049957</td>\n",
       "      <td>-0.999446</td>\n",
       "      <td>0.815232</td>\n",
       "    </tr>\n",
       "    <tr>\n",
       "      <th>2000-01-08</th>\n",
       "      <td>1.215236</td>\n",
       "      <td>-0.167332</td>\n",
       "      <td>0.724816</td>\n",
       "    </tr>\n",
       "  </tbody>\n",
       "</table>\n",
       "</div>"
      ],
      "text/plain": [
       "                   A         B         C\n",
       "2000-01-01 -0.544858  1.501030  0.398307\n",
       "2000-01-02 -1.865583 -0.259714  0.773989\n",
       "2000-01-03  1.487278  0.146009  0.432166\n",
       "2000-01-04 -1.041421  0.242035  0.946409\n",
       "2000-01-05 -1.091189  0.219331  0.687794\n",
       "2000-01-06 -0.983689  0.068095 -0.686029\n",
       "2000-01-07 -0.049957 -0.999446  0.815232\n",
       "2000-01-08  1.215236 -0.167332  0.724816"
      ]
     },
     "execution_count": 4,
     "metadata": {},
     "output_type": "execute_result"
    }
   ],
   "source": [
    "df.loc[:, 'A':'C']"
   ]
  },
  {
   "cell_type": "code",
   "execution_count": 5,
   "metadata": {},
   "outputs": [
    {
     "data": {
      "text/html": [
       "<div>\n",
       "<style scoped>\n",
       "    .dataframe tbody tr th:only-of-type {\n",
       "        vertical-align: middle;\n",
       "    }\n",
       "\n",
       "    .dataframe tbody tr th {\n",
       "        vertical-align: top;\n",
       "    }\n",
       "\n",
       "    .dataframe thead th {\n",
       "        text-align: right;\n",
       "    }\n",
       "</style>\n",
       "<table border=\"1\" class=\"dataframe\">\n",
       "  <thead>\n",
       "    <tr style=\"text-align: right;\">\n",
       "      <th></th>\n",
       "      <th>A</th>\n",
       "      <th>B</th>\n",
       "      <th>C</th>\n",
       "      <th>D</th>\n",
       "    </tr>\n",
       "  </thead>\n",
       "  <tbody>\n",
       "    <tr>\n",
       "      <th>2000-01-01</th>\n",
       "      <td>-0.544858</td>\n",
       "      <td>1.501030</td>\n",
       "      <td>0.398307</td>\n",
       "      <td>2.898312</td>\n",
       "    </tr>\n",
       "    <tr>\n",
       "      <th>2000-01-03</th>\n",
       "      <td>1.487278</td>\n",
       "      <td>0.146009</td>\n",
       "      <td>0.432166</td>\n",
       "      <td>0.378402</td>\n",
       "    </tr>\n",
       "    <tr>\n",
       "      <th>2000-01-05</th>\n",
       "      <td>-1.091189</td>\n",
       "      <td>0.219331</td>\n",
       "      <td>0.687794</td>\n",
       "      <td>-2.020007</td>\n",
       "    </tr>\n",
       "    <tr>\n",
       "      <th>2000-01-07</th>\n",
       "      <td>-0.049957</td>\n",
       "      <td>-0.999446</td>\n",
       "      <td>0.815232</td>\n",
       "      <td>0.079493</td>\n",
       "    </tr>\n",
       "  </tbody>\n",
       "</table>\n",
       "</div>"
      ],
      "text/plain": [
       "                   A         B         C         D\n",
       "2000-01-01 -0.544858  1.501030  0.398307  2.898312\n",
       "2000-01-03  1.487278  0.146009  0.432166  0.378402\n",
       "2000-01-05 -1.091189  0.219331  0.687794 -2.020007\n",
       "2000-01-07 -0.049957 -0.999446  0.815232  0.079493"
      ]
     },
     "execution_count": 5,
     "metadata": {},
     "output_type": "execute_result"
    }
   ],
   "source": [
    "# strides\n",
    "df.loc[::2]"
   ]
  },
  {
   "cell_type": "code",
   "execution_count": 6,
   "metadata": {},
   "outputs": [
    {
     "data": {
      "text/html": [
       "<div>\n",
       "<style scoped>\n",
       "    .dataframe tbody tr th:only-of-type {\n",
       "        vertical-align: middle;\n",
       "    }\n",
       "\n",
       "    .dataframe tbody tr th {\n",
       "        vertical-align: top;\n",
       "    }\n",
       "\n",
       "    .dataframe thead th {\n",
       "        text-align: right;\n",
       "    }\n",
       "</style>\n",
       "<table border=\"1\" class=\"dataframe\">\n",
       "  <thead>\n",
       "    <tr style=\"text-align: right;\">\n",
       "      <th></th>\n",
       "      <th>A</th>\n",
       "      <th>B</th>\n",
       "      <th>C</th>\n",
       "    </tr>\n",
       "  </thead>\n",
       "  <tbody>\n",
       "    <tr>\n",
       "      <th>2000-01-01</th>\n",
       "      <td>-0.544858</td>\n",
       "      <td>1.501030</td>\n",
       "      <td>0.398307</td>\n",
       "    </tr>\n",
       "    <tr>\n",
       "      <th>2000-01-02</th>\n",
       "      <td>-1.865583</td>\n",
       "      <td>-0.259714</td>\n",
       "      <td>0.773989</td>\n",
       "    </tr>\n",
       "  </tbody>\n",
       "</table>\n",
       "</div>"
      ],
      "text/plain": [
       "                   A         B         C\n",
       "2000-01-01 -0.544858  1.501030  0.398307\n",
       "2000-01-02 -1.865583 -0.259714  0.773989"
      ]
     },
     "execution_count": 6,
     "metadata": {},
     "output_type": "execute_result"
    }
   ],
   "source": [
    "# indexing using iloc[]\n",
    "df.iloc[:2,:3]"
   ]
  },
  {
   "cell_type": "code",
   "execution_count": 7,
   "metadata": {},
   "outputs": [
    {
     "data": {
      "text/html": [
       "<div>\n",
       "<style scoped>\n",
       "    .dataframe tbody tr th:only-of-type {\n",
       "        vertical-align: middle;\n",
       "    }\n",
       "\n",
       "    .dataframe tbody tr th {\n",
       "        vertical-align: top;\n",
       "    }\n",
       "\n",
       "    .dataframe thead th {\n",
       "        text-align: right;\n",
       "    }\n",
       "</style>\n",
       "<table border=\"1\" class=\"dataframe\">\n",
       "  <thead>\n",
       "    <tr style=\"text-align: right;\">\n",
       "      <th></th>\n",
       "      <th>C</th>\n",
       "      <th>D</th>\n",
       "    </tr>\n",
       "  </thead>\n",
       "  <tbody>\n",
       "    <tr>\n",
       "      <th>2000-01-05</th>\n",
       "      <td>0.687794</td>\n",
       "      <td>-2.020007</td>\n",
       "    </tr>\n",
       "    <tr>\n",
       "      <th>2000-01-06</th>\n",
       "      <td>-0.686029</td>\n",
       "      <td>-2.571632</td>\n",
       "    </tr>\n",
       "    <tr>\n",
       "      <th>2000-01-07</th>\n",
       "      <td>0.815232</td>\n",
       "      <td>0.079493</td>\n",
       "    </tr>\n",
       "    <tr>\n",
       "      <th>2000-01-08</th>\n",
       "      <td>0.724816</td>\n",
       "      <td>0.659588</td>\n",
       "    </tr>\n",
       "  </tbody>\n",
       "</table>\n",
       "</div>"
      ],
      "text/plain": [
       "                   C         D\n",
       "2000-01-05  0.687794 -2.020007\n",
       "2000-01-06 -0.686029 -2.571632\n",
       "2000-01-07  0.815232  0.079493\n",
       "2000-01-08  0.724816  0.659588"
      ]
     },
     "execution_count": 7,
     "metadata": {},
     "output_type": "execute_result"
    }
   ],
   "source": [
    "df.iloc[4:,2:4]"
   ]
  },
  {
   "cell_type": "code",
   "execution_count": 8,
   "metadata": {},
   "outputs": [
    {
     "name": "stdout",
     "output_type": "stream",
     "text": [
      "Index: 2000-01-01 00:00:00 Rows: [-0.54485781  1.50103006  0.39830682  2.89831192]\n",
      "Index: 2000-01-02 00:00:00 Rows: [-1.86558289 -0.25971393  0.77398905  0.4311926 ]\n",
      "Index: 2000-01-03 00:00:00 Rows: [1.48727781 0.14600897 0.43216591 0.37840174]\n",
      "Index: 2000-01-04 00:00:00 Rows: [-1.04142136  0.24203514  0.94640933 -1.34650519]\n",
      "Index: 2000-01-05 00:00:00 Rows: [-1.09118942  0.21933072  0.68779404 -2.02000696]\n",
      "Index: 2000-01-06 00:00:00 Rows: [-0.98368871  0.06809506 -0.68602864 -2.57163248]\n",
      "Index: 2000-01-07 00:00:00 Rows: [-0.04995731 -0.99944635  0.81523181  0.07949265]\n",
      "Index: 2000-01-08 00:00:00 Rows: [ 1.21523572 -0.1673322   0.72481555  0.65958764]\n"
     ]
    }
   ],
   "source": [
    "for index, row in df.iterrows():\n",
    "    print(\"Index: {} Rows: {}\".format(index, row.values))"
   ]
  },
  {
   "cell_type": "code",
   "execution_count": 9,
   "metadata": {},
   "outputs": [
    {
     "name": "stdout",
     "output_type": "stream",
     "text": [
      "Pandas(Index=Timestamp('2000-01-01 00:00:00', freq='D'), A=-0.5448578129375133, B=1.5010300597330144, C=0.3983068187252657, D=2.8983119245741755)\n",
      "Pandas(Index=Timestamp('2000-01-02 00:00:00', freq='D'), A=-1.8655828874222347, B=-0.25971392633411655, C=0.7739890511817209, D=0.43119259979999597)\n",
      "Pandas(Index=Timestamp('2000-01-03 00:00:00', freq='D'), A=1.487277811658206, B=0.14600897283523798, C=0.43216591074635763, D=0.37840174235652363)\n",
      "Pandas(Index=Timestamp('2000-01-04 00:00:00', freq='D'), A=-1.0414213584866636, B=0.24203514150608607, C=0.9464093293131465, D=-1.3465051936317354)\n",
      "Pandas(Index=Timestamp('2000-01-05 00:00:00', freq='D'), A=-1.0911894247944902, B=0.21933071910012095, C=0.6877940448441232, D=-2.020006956622897)\n",
      "Pandas(Index=Timestamp('2000-01-06 00:00:00', freq='D'), A=-0.983688707452594, B=0.06809506117468037, C=-0.6860286423879619, D=-2.5716324754607087)\n",
      "Pandas(Index=Timestamp('2000-01-07 00:00:00', freq='D'), A=-0.049957307701142754, B=-0.9994463465872252, C=0.8152318083497122, D=0.07949265332706701)\n",
      "Pandas(Index=Timestamp('2000-01-08 00:00:00', freq='D'), A=1.21523571956654, B=-0.16733220062357063, C=0.7248155530666419, D=0.6595876398297511)\n"
     ]
    }
   ],
   "source": [
    "for row in df.itertuples():\n",
    "    print(row)"
   ]
  },
  {
   "cell_type": "code",
   "execution_count": null,
   "metadata": {},
   "outputs": [],
   "source": []
  }
 ],
 "metadata": {
  "kernelspec": {
   "display_name": "Python 3",
   "language": "python",
   "name": "python3"
  },
  "language_info": {
   "codemirror_mode": {
    "name": "ipython",
    "version": 3
   },
   "file_extension": ".py",
   "mimetype": "text/x-python",
   "name": "python",
   "nbconvert_exporter": "python",
   "pygments_lexer": "ipython3",
   "version": "3.6.8"
  }
 },
 "nbformat": 4,
 "nbformat_minor": 4
}
