{
 "cells": [
  {
   "cell_type": "markdown",
   "metadata": {},
   "source": [
    "https://pythontic.com/pandas/serialization#:~:text=Serializing%20DataFrames%20means%20writing%20the%20DataFrame%20contents%20to%20disk%20in%20some%20format.&text=The%20contents%20of%20the%20pandas,pickle%20format%20and%20so%20on."
   ]
  },
  {
   "cell_type": "code",
   "execution_count": 1,
   "metadata": {},
   "outputs": [],
   "source": [
    "# importing libraries\n",
    "import pandas as pd\n",
    "import numpy as np"
   ]
  },
  {
   "cell_type": "markdown",
   "metadata": {},
   "source": [
    "### Copying Pandas DataFrame Object Contents To Clipboard\n",
    "* A clipboard in an operating system is a portion of physical memory that provides short-term storage to be used between programs.\n",
    "* The clipboard in an operating system enables cut-copy-paste operations between programs and within a program as well.\n",
    "* The contents of a pandas DataFrame object can be stored in clipboard through the method to_clipboard()."
   ]
  },
  {
   "cell_type": "code",
   "execution_count": 2,
   "metadata": {},
   "outputs": [],
   "source": [
    "textMatrix = [(\"Earth\", \"Sphere\", \"Geoid\"),\n",
    "\n",
    "              (\"Matter\", \"Particle\", \"Wave\"),\n",
    "\n",
    "              (\"Magnet\", \"Flex\", \"Electricity\")]\n",
    "\n",
    "\n",
    "# Create a DataFrame\n",
    "\n",
    "df = pd.DataFrame(data=textMatrix)\n",
    "\n",
    "# Copy DataFrame contents to clipboard\n",
    "\n",
    "df.to_clipboard(sep=\"\\t\")"
   ]
  },
  {
   "cell_type": "code",
   "execution_count": 8,
   "metadata": {},
   "outputs": [
    {
     "ename": "SyntaxError",
     "evalue": "positional argument follows keyword argument (<ipython-input-8-2464ad694965>, line 1)",
     "output_type": "error",
     "traceback": [
      "\u001b[1;36m  File \u001b[1;32m\"<ipython-input-8-2464ad694965>\"\u001b[1;36m, line \u001b[1;32m1\u001b[0m\n\u001b[1;33m    df = pd.DataFrame()(data=\"Earth\", \"Sphere\", \"Geoid\", \"Matter\", \"Particle\", \"Wave\", \"Magnet\", \"Flex\", \"Electricity\")\u001b[0m\n\u001b[1;37m                                     ^\u001b[0m\n\u001b[1;31mSyntaxError\u001b[0m\u001b[1;31m:\u001b[0m positional argument follows keyword argument\n"
     ]
    }
   ],
   "source": [
    "df = pd.DataFrame()(data=\"Earth\", \"Sphere\", \"Geoid\", \"Matter\", \"Particle\", \"Wave\", \"Magnet\", \"Flex\", \"Electricity\")"
   ]
  },
  {
   "cell_type": "markdown",
   "metadata": {},
   "source": [
    "### Export a pandas dataframe to a html table\n",
    "* In Data Analytics it is a common requirement to publish final results such as a confusion matrix or a dashboard to an external format like excel, HTML, MySQL and others.\n",
    "* The method to_html() of the DataFrame class, returns a HTML string that represents a DataFrame object as a HTML table."
   ]
  },
  {
   "cell_type": "code",
   "execution_count": 2,
   "metadata": {},
   "outputs": [
    {
     "name": "stdout",
     "output_type": "stream",
     "text": [
      "<table border=\"1\" class=\"dataframe\">\n",
      "  <thead>\n",
      "    <tr style=\"text-align: right;\">\n",
      "      <th></th>\n",
      "      <th>A</th>\n",
      "      <th>B</th>\n",
      "      <th>C</th>\n",
      "    </tr>\n",
      "  </thead>\n",
      "  <tbody>\n",
      "    <tr>\n",
      "      <th>0</th>\n",
      "      <td>1512</td>\n",
      "      <td>1547</td>\n",
      "      <td>1676</td>\n",
      "    </tr>\n",
      "    <tr>\n",
      "      <th>1</th>\n",
      "      <td>1245</td>\n",
      "      <td>1598</td>\n",
      "      <td>1436</td>\n",
      "    </tr>\n",
      "    <tr>\n",
      "      <th>2</th>\n",
      "      <td>1234</td>\n",
      "      <td>1345</td>\n",
      "      <td>1452</td>\n",
      "    </tr>\n",
      "  </tbody>\n",
      "</table>\n"
     ]
    }
   ],
   "source": [
    "# A Python dictionary representing categories\n",
    "\n",
    "categories = {\"A\": [1512, 1245, 1234],\n",
    "\n",
    "              \"B\": [1547, 1598, 1345],\n",
    "\n",
    "              \"C\": [1676, 1436, 1452]} \n",
    "\n",
    "# Dictionary loaded into a pandas DataFrame             \n",
    "\n",
    "df = pd.DataFrame(data=categories)\n",
    "\n",
    "# Emit the DataFrame as a HTML string\n",
    "\n",
    "html = df.to_html() \n",
    "\n",
    "# Print the HTML\n",
    "\n",
    "print(html);"
   ]
  },
  {
   "cell_type": "code",
   "execution_count": 3,
   "metadata": {},
   "outputs": [],
   "source": [
    "d = df.to_dict()"
   ]
  },
  {
   "cell_type": "code",
   "execution_count": 4,
   "metadata": {},
   "outputs": [
    {
     "data": {
      "text/plain": [
       "{'A': {0: 1512, 1: 1245, 2: 1234},\n",
       " 'B': {0: 1547, 1: 1598, 2: 1345},\n",
       " 'C': {0: 1676, 1: 1436, 2: 1452}}"
      ]
     },
     "execution_count": 4,
     "metadata": {},
     "output_type": "execute_result"
    }
   ],
   "source": [
    "d"
   ]
  },
  {
   "cell_type": "code",
   "execution_count": null,
   "metadata": {},
   "outputs": [],
   "source": []
  }
 ],
 "metadata": {
  "kernelspec": {
   "display_name": "Python 3",
   "language": "python",
   "name": "python3"
  },
  "language_info": {
   "codemirror_mode": {
    "name": "ipython",
    "version": 3
   },
   "file_extension": ".py",
   "mimetype": "text/x-python",
   "name": "python",
   "nbconvert_exporter": "python",
   "pygments_lexer": "ipython3",
   "version": "3.6.8"
  }
 },
 "nbformat": 4,
 "nbformat_minor": 4
}
